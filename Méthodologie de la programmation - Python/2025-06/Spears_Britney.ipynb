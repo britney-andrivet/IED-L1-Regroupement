{
 "cells": [
  {
   "cell_type": "markdown",
   "id": "6008fa53",
   "metadata": {},
   "source": [
    "Britney Spears\n",
    "N° étudiante: 9999999"
   ]
  },
  {
   "cell_type": "markdown",
   "id": "fc8f9417",
   "metadata": {},
   "source": [
    "Instructions:\n",
    "- Vous devez remettre un seul fichier au format Jupyter Notebook (ipynb) contenant les réponses à toutes les questions, ainsi qu'un fichier texte nombre_votre_nom. txt comme demandé dans la question 2.\n",
    "- Aucun matériel externe ni appareil électronique n'est autorisé pendant l'examen.\n",
    "- Le fichier. ipynb doit être nommé avec votre nom, selon le format suivant : Nom_ Nom_Prenom.ipynb\n",
    "- Indiquez également votre nom et prénom dans la première cellule de votre notebook.\n",
    "- Les deux fichiers doivent être déposés à la fin de l'examen sur Moodle, dans la section : \"Dépôt de code regroupement Juin\"."
   ]
  },
  {
   "cell_type": "markdown",
   "id": "111fa0cd",
   "metadata": {},
   "source": [
    "Il y a plusieurs manières de répondre aux questions. Les solutions proposées ne sont qu'une de ces manières, vous pouvez très bien procéder différemment."
   ]
  },
  {
   "cell_type": "markdown",
   "id": "556af0f9",
   "metadata": {},
   "source": [
    "1. Créez une fonction `compte_occurrences(lettre, chaine)` qui retourne le nombre d'occurrences de lettre dans chaine. Testez-la avec : \n",
    "```\n",
    "compte_occurrences('a', 'abracadabra')\n",
    "```\n",
    "\n",
    "Aide :\n",
    "* Pensez à utiliser une boucle for pour parcourir la chaîne"
   ]
  },
  {
   "cell_type": "code",
   "execution_count": 3,
   "id": "c4b0d3f6",
   "metadata": {},
   "outputs": [],
   "source": [
    "# L'énoncé demande explicitement une boucle for, on va donc en utiliser une\n",
    "\n",
    "def compte_occurrences(lettre, chaine):\n",
    "    return sum(1 for c in chaine if c == lettre) "
   ]
  },
  {
   "cell_type": "code",
   "execution_count": null,
   "id": "f9791721",
   "metadata": {},
   "outputs": [],
   "source": [
    "# Une autre façon de faire, mais plus verbeuse\n",
    "def compte_occurrences2(lettre, chaine):\n",
    "    compteur = 0\n",
    "    for c in chaine:\n",
    "        if c == lettre:\n",
    "            compteur += 1\n",
    "    return compteur"
   ]
  },
  {
   "cell_type": "code",
   "execution_count": 4,
   "id": "251f2a18",
   "metadata": {},
   "outputs": [
    {
     "name": "stdout",
     "output_type": "stream",
     "text": [
      "5\n"
     ]
    }
   ],
   "source": [
    "print(compte_occurrences('a', 'abracadabra'))"
   ]
  },
  {
   "cell_type": "markdown",
   "id": "2c52c789",
   "metadata": {},
   "source": [
    "2. Vous avez une liste de 10 nombres aléatoires entre 1 et 50 à disposition :\n",
    "```\n",
    "randomliste = [5,6,20,40,12,8,18,49,36,7]\n",
    "```\n",
    "\n",
    "Écrivez un programme qui :\n",
    "1. Trie la liste par ordre croissant\n",
    "2. Écrit cette liste triée dans un fichier `nombre_votre_nom.txt`\n",
    "\n",
    "Aide :\n",
    "* Utilisez la méthode `sort()` pour trier la liste\n",
    "* Ouvrez le fichier avec `open()` en mode écriture ('w')\n",
    "* Utilisez une boucle pour écrire chaque élément"
   ]
  },
  {
   "cell_type": "code",
   "execution_count": null,
   "id": "0eddbca2",
   "metadata": {},
   "outputs": [],
   "source": [
    "randomliste = [5, 6, 20, 40, 12, 8, 18, 49, 36, 7]\n",
    "\n",
    "# On trie la liste en utilisant sort()\n",
    "randomliste.sort()\n",
    "\n",
    "# On ouvre le fichier en écriture avec open et 'w'\n",
    "with open('nombre_spears.txt', 'w') as fichier:\n",
    "    # On écrit chaque nombre de la liste dans le fichier\n",
    "    # en utilisant une boucle for\n",
    "    for nombre in randomliste:\n",
    "        fichier.write(f\"{nombre}\\n\")"
   ]
  },
  {
   "cell_type": "code",
   "execution_count": 6,
   "id": "ce8fd0cc",
   "metadata": {},
   "outputs": [
    {
     "name": "stdout",
     "output_type": "stream",
     "text": [
      "5\n",
      "6\n",
      "7\n",
      "8\n",
      "12\n",
      "18\n",
      "20\n",
      "36\n",
      "40\n",
      "49\n",
      "\n"
     ]
    }
   ],
   "source": [
    "# Pour tester, on lit le fichier et on affiche son contenu\n",
    "with open('nombre_spears.txt', 'r') as fichier:\n",
    "    print(fichier.read())"
   ]
  },
  {
   "cell_type": "markdown",
   "id": "037c1d1c",
   "metadata": {},
   "source": [
    "3. Vous avez le dictionnaire suivant à disposition:\n",
    "```\n",
    "notes = {'Alice': [15, 13, 14],\n",
    "'Bob': [12, 14],\n",
    "'Claire': [18, 17, 16, 191]}\n",
    "```\n",
    "\n",
    "Écrivez un programme qui :\n",
    "1. Calcule la moyenne des notes de chaque étudiant\n",
    "2. Affiche, pour chaque étudiant, son nom suivi de sa moyenne\n",
    "\n",
    "Résultat attendu:\n",
    "```\n",
    "Alice : 14.0\n",
    "Bob : 13.0\n",
    "Claire : 17.5\n",
    "```\n",
    "\n",
    "Aide :\n",
    "* Parcourez le dictionnaire avec `for eleve, notes_eleve in notes.items()`\n",
    "* Calculez la moyenne avec `sum(notes_eleve) / len(notes_eleve)`"
   ]
  },
  {
   "cell_type": "code",
   "execution_count": 9,
   "id": "c11aec18",
   "metadata": {},
   "outputs": [
    {
     "name": "stdout",
     "output_type": "stream",
     "text": [
      "Alice: 14.0\n",
      "Bob: 13.0\n",
      "Claire: 17.5\n"
     ]
    }
   ],
   "source": [
    "notes = {\n",
    "    'Alice': [15, 13, 14],\n",
    "    'Bob': [12, 14],\n",
    "    'Claire': [18, 17, 16, 19]}\n",
    "\n",
    "for eleve, notes_eleve in notes.items():\n",
    "    # On calcule la moyenne des notes de l'élève\n",
    "    moyenne = sum(notes_eleve) / len(notes_eleve)\n",
    "    # On affiche le nom de l'élève et sa moyenne avec 1 décimales\n",
    "    print(f\"{eleve}: {moyenne:.1f}\")"
   ]
  },
  {
   "cell_type": "markdown",
   "id": "3c381dc1",
   "metadata": {},
   "source": [
    "4. Ecrivez un programme Python qui :\n",
    "\n",
    "    1. Crée une liste contenant les nombres entiers suivants : `[4, 7, 2, 9, 5]`\n",
    "    2. Calcule la somme de tous les éléments de la liste\n",
    "    3. Affiche le résultat sous la forme : \"La somme des éléments est : X\"\n",
    "\n",
    "Aide :\n",
    "* Initialisez une variable `somme = 0`\n",
    "* Parcourez la liste avec une boucle `for`"
   ]
  },
  {
   "cell_type": "code",
   "execution_count": 12,
   "id": "6c77c9c9",
   "metadata": {},
   "outputs": [
    {
     "name": "stdout",
     "output_type": "stream",
     "text": [
      "La somme des éléments est : 27\n"
     ]
    }
   ],
   "source": [
    "# La liste de nombres\n",
    "nombres = [4, 7, 2, 9, 5]\n",
    "# On initialise la somme à 0 comme demandé\n",
    "somme = 0\n",
    "\n",
    "# On utilise une boucle for pour parcourir la liste\n",
    "for n in nombres:\n",
    "    somme += n\n",
    "\n",
    "# On affiche la somme des éléments de la liste\n",
    "print(\"La somme des éléments est :\", somme)"
   ]
  },
  {
   "cell_type": "code",
   "execution_count": 14,
   "id": "083272e9",
   "metadata": {},
   "outputs": [
    {
     "name": "stdout",
     "output_type": "stream",
     "text": [
      "La somme des éléments est : 27\n"
     ]
    }
   ],
   "source": [
    "# Une autre façon de faire, plus dans l'esprit de Python\n",
    "\n",
    "def somme_liste(liste):\n",
    "    return sum(liste)\n",
    "\n",
    "print(\"La somme des éléments est :\", somme)"
   ]
  }
 ],
 "metadata": {
  "kernelspec": {
   "display_name": "regroupement-ied",
   "language": "python",
   "name": "python3"
  },
  "language_info": {
   "codemirror_mode": {
    "name": "ipython",
    "version": 3
   },
   "file_extension": ".py",
   "mimetype": "text/x-python",
   "name": "python",
   "nbconvert_exporter": "python",
   "pygments_lexer": "ipython3",
   "version": "3.12.9"
  }
 },
 "nbformat": 4,
 "nbformat_minor": 5
}
